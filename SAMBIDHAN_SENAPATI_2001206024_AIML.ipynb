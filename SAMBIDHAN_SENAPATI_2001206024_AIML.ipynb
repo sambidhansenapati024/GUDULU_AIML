{
  "nbformat": 4,
  "nbformat_minor": 0,
  "metadata": {
    "colab": {
      "provenance": [],
      "authorship_tag": "ABX9TyNQGFuUMcGjWmxyQPl8iHbG",
      "include_colab_link": true
    },
    "kernelspec": {
      "name": "python3",
      "display_name": "Python 3"
    },
    "language_info": {
      "name": "python"
    }
  },
  "cells": [
    {
      "cell_type": "markdown",
      "metadata": {
        "id": "view-in-github",
        "colab_type": "text"
      },
      "source": [
        "<a href=\"https://colab.research.google.com/github/sambidhansenapati024/SAMBIDHAN_SENAPATI_2001206024_AIML/blob/main/SAMBIDHAN_SENAPATI_2001206024_AIML.ipynb\" target=\"_parent\"><img src=\"https://colab.research.google.com/assets/colab-badge.svg\" alt=\"Open In Colab\"/></a>"
      ]
    },
    {
      "cell_type": "code",
      "execution_count": null,
      "metadata": {
        "id": "k8Ye5pau5Hb7",
        "colab": {
          "base_uri": "https://localhost:8080/"
        },
        "outputId": "5d60e249-45d7-45d8-d51c-b16bb7d6c929"
      },
      "outputs": [
        {
          "output_type": "stream",
          "name": "stdout",
          "text": [
            "Enter number: 169\n",
            "Reverse of the number: 961\n"
          ]
        }
      ],
      "source": [
        "n=int(input(\"Enter number: \"))\n",
        "rev=0\n",
        "while(n>0):\n",
        "    dig=n%10\n",
        "    rev=rev*10+dig\n",
        "    n=n//10\n",
        "print(\"Reverse of the number:\",rev)    "
      ]
    },
    {
      "cell_type": "code",
      "source": [
        "a=11\n",
        "b=20\n",
        "print(\"a | b = \", a | b)"
      ],
      "metadata": {
        "colab": {
          "base_uri": "https://localhost:8080/"
        },
        "id": "DuolYlWLHgfg",
        "outputId": "9411e283-f18b-4b36-c52b-59355fffd9b2"
      },
      "execution_count": null,
      "outputs": [
        {
          "output_type": "stream",
          "name": "stdout",
          "text": [
            "a | b =  31\n"
          ]
        }
      ]
    },
    {
      "cell_type": "code",
      "source": [
        "def add(x,y):\n",
        "  while(y != 0): \n",
        "   carry= x & y\n",
        "   x=x^y\n",
        "   y=carry << 1\n",
        "  return x\n",
        "print(add(11,20))"
      ],
      "metadata": {
        "colab": {
          "base_uri": "https://localhost:8080/"
        },
        "id": "O8StLq0nMTxk",
        "outputId": "81ee673f-1f40-40b8-b831-62d97cbe4e75"
      },
      "execution_count": null,
      "outputs": [
        {
          "output_type": "stream",
          "name": "stdout",
          "text": [
            "31\n"
          ]
        }
      ]
    },
    {
      "cell_type": "code",
      "source": [
        "#Python program to find the area and perimeter\n",
        "#Initializing the value of PI\n",
        "PI=3.14\n",
        "#input values\n",
        "R=float(input(\"ENTER RADIUS OS THE CIRCLE:\"))\n",
        "# Find Prea and Perimeter\n",
        "Area=(PI*R*R)\n",
        "Perimeter=(2*PI*R)\n",
        "print(\"The area of circle is\",Area)\n",
        "print(\"The perimeter of circle is\",Perimeter)"
      ],
      "metadata": {
        "colab": {
          "base_uri": "https://localhost:8080/"
        },
        "id": "8ZVlgbBxMvXv",
        "outputId": "7989a5cf-233b-4bc3-9322-75530f53f0ee"
      },
      "execution_count": 1,
      "outputs": [
        {
          "output_type": "stream",
          "name": "stdout",
          "text": [
            "ENTER RADIUS OS THE CIRCLE:25\n",
            "The area of circle is 1962.5\n",
            "The perimeter of circle is 157.0\n"
          ]
        }
      ]
    },
    {
      "cell_type": "code",
      "source": [
        "# Kilometer to meter , centimeter , milimeter\n",
        "Kilometer=float(input(\"Enter the kilometers = \"))\n",
        "\n",
        "Meter=Kilometer * 1000\n",
        "Centimeter=Kilometer * 100000\n",
        "Milimeter=Kilometer * 1000000\n",
        "print(\"Meter is:\",Meter)\n",
        "print(\"Centimeter is:\",Centimeter)\n",
        "print(\"Milimeter is\",Milimeter)"
      ],
      "metadata": {
        "colab": {
          "base_uri": "https://localhost:8080/"
        },
        "id": "de9nATAjOvSq",
        "outputId": "597e9d45-a527-44c3-aa71-9b371e63e4a2"
      },
      "execution_count": 2,
      "outputs": [
        {
          "output_type": "stream",
          "name": "stdout",
          "text": [
            "Enter the kilometers = 10\n",
            "Meter is: 10000.0\n",
            "Centimeter is: 1000000.0\n",
            "Milimeter is 10000000.0\n"
          ]
        }
      ]
    }
  ]
}